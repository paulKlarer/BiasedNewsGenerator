{
 "cells": [
  {
   "cell_type": "code",
   "execution_count": null,
   "id": "485c5aed-efd9-44f0-bacc-d0f0c17fbd0e",
   "metadata": {},
   "outputs": [],
   "source": [
    "import wandb\n",
    "from unsloth import FastLanguageModel\n",
    "\n",
    "# Schritt 1: Bei wandb anmelden (ersetze \"YOUR_WANDB_API_KEY\", \"your_project_name\" und \"your_entity\")\n",
    "wandb.login(key=\"YOUR_WANDB_API_KEY\")\n",
    "run = wandb.init(project=\"your_project_name\", entity=\"your_entity\", job_type=\"download_lora_adapter\")\n",
    "\n",
    "# Schritt 2: Den gespeicherten LoRA-Adapter als Artifact abrufen\n",
    "# Ersetze \"your_lora_adapter:latest\" durch den tatsächlichen Namen und die Version deines Adapters in wandb\n",
    "artifact = run.use_artifact(\"your_lora_adapter:latest\", type=\"model\")\n",
    "artifact_dir = artifact.download()  # Der Adapter wird in einen lokalen Ordner heruntergeladen\n",
    "\n",
    "# Schritt 3: Lade den LoRA-Adapter mit unsloth aus dem heruntergeladenen Verzeichnis\n",
    "model, tokenizer = FastLanguageModel.from_pretrained(\n",
    "    model_name=artifact_dir,  # Verzeichnis mit den Adapter-Dateien\n",
    "    max_seq_length=2048,      # Passe diesen Wert nach Bedarf an\n",
    "    dtype=None,               # z. B. torch.float16, falls benötigt\n",
    "    load_in_4bit=False        # Setze True, falls du 4-Bit-Laden nutzen möchtest\n",
    ")\n",
    "\n",
    "# Schritt 4: Aktiviere die schnelle Inferenz (2x schneller)\n",
    "FastLanguageModel.for_inference(model)\n",
    "\n",
    "# Schritt 5: Erstelle den Input-Prompt \"hallo\" und führe das Modell aus\n",
    "prompt = \"hallo\"\n",
    "inputs = tokenizer(prompt, return_tensors=\"pt\").to(\"cuda\")\n",
    "outputs = model.generate(**inputs, max_new_tokens=50)\n",
    "\n",
    "# Ausgabe dekodieren und anzeigen\n",
    "print(tokenizer.decode(outputs[0], skip_special_tokens=True))\n"
   ]
  }
 ],
 "metadata": {
  "kernelspec": {
   "display_name": "Python 3 (ipykernel)",
   "language": "python",
   "name": "python3"
  },
  "language_info": {
   "codemirror_mode": {
    "name": "ipython",
    "version": 3
   },
   "file_extension": ".py",
   "mimetype": "text/x-python",
   "name": "python",
   "nbconvert_exporter": "python",
   "pygments_lexer": "ipython3",
   "version": "3.10.12"
  }
 },
 "nbformat": 4,
 "nbformat_minor": 5
}
